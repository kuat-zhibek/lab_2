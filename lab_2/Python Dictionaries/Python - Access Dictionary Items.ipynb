{
 "cells": [
  {
   "cell_type": "markdown",
   "id": "b52f2a1b-eb11-48bc-a548-d4497e438b77",
   "metadata": {},
   "source": [
    "Example 1"
   ]
  },
  {
   "cell_type": "code",
   "execution_count": 1,
   "id": "a61ffad8-acff-4898-be6e-c086f00e88c4",
   "metadata": {},
   "outputs": [],
   "source": [
    "thisdict = {\n",
    "  \"brand\": \"Ford\",\n",
    "  \"model\": \"Mustang\",\n",
    "  \"year\": 1964\n",
    "}\n",
    "x = thisdict[\"model\"]"
   ]
  },
  {
   "cell_type": "markdown",
   "id": "c10391b0-4381-4a4a-a15e-ee8114983b5a",
   "metadata": {},
   "source": [
    "Example 2"
   ]
  },
  {
   "cell_type": "code",
   "execution_count": 3,
   "id": "633d52dc-8d46-424e-ae53-651474ea5d60",
   "metadata": {},
   "outputs": [],
   "source": [
    "x = thisdict.get(\"model\") #Get the value of the \"model\" key"
   ]
  },
  {
   "cell_type": "markdown",
   "id": "e9444b88-4cb4-4c0d-ba1d-814f7c29aee8",
   "metadata": {},
   "source": [
    "Example 3"
   ]
  },
  {
   "cell_type": "code",
   "execution_count": 5,
   "id": "76904840-a6e0-4aef-ad14-bdc67687c7e4",
   "metadata": {},
   "outputs": [],
   "source": [
    "x = thisdict.keys() #Get a list of the keys"
   ]
  },
  {
   "cell_type": "markdown",
   "id": "364af4c5-6538-411d-b6f2-5e4b40f5b1a6",
   "metadata": {},
   "source": [
    "Example 4"
   ]
  },
  {
   "cell_type": "code",
   "execution_count": 7,
   "id": "d1c3f805-fc4f-4286-b02c-f42efbb3bef4",
   "metadata": {},
   "outputs": [
    {
     "name": "stdout",
     "output_type": "stream",
     "text": [
      "dict_keys(['brand', 'model', 'year'])\n",
      "dict_keys(['brand', 'model', 'year', 'color'])\n"
     ]
    }
   ],
   "source": [
    "car = {\n",
    "\"brand\": \"Ford\",\n",
    "\"model\": \"Mustang\",\n",
    "\"year\": 1964\n",
    "}\n",
    "x = car.keys()\n",
    "print(x) #before the change\n",
    "car[\"color\"] = \"white\"\n",
    "print(x) #after the change\n"
   ]
  },
  {
   "cell_type": "markdown",
   "id": "a8c7013e-8eea-4a83-a4a1-52f26bc622b5",
   "metadata": {},
   "source": [
    "Example 5"
   ]
  },
  {
   "cell_type": "code",
   "execution_count": 9,
   "id": "20eaa1ed-5e2c-4928-b5d0-3ae6127c7a5e",
   "metadata": {},
   "outputs": [],
   "source": [
    "x = thisdict.values() #Get a list of the values"
   ]
  },
  {
   "cell_type": "markdown",
   "id": "b42079dd-da06-4ab5-b964-6ded20e7844c",
   "metadata": {},
   "source": [
    "Example 6"
   ]
  },
  {
   "cell_type": "code",
   "execution_count": 11,
   "id": "fdae5079-27c5-4a81-87f4-c3600d1ac647",
   "metadata": {},
   "outputs": [
    {
     "name": "stdout",
     "output_type": "stream",
     "text": [
      "dict_values(['Ford', 'Mustang', 1964])\n",
      "dict_values(['Ford', 'Mustang', 2020])\n"
     ]
    }
   ],
   "source": [
    "car = {\n",
    "\"brand\": \"Ford\",\n",
    "\"model\": \"Mustang\",\n",
    "\"year\": 1964\n",
    "}\n",
    "x = car.values()\n",
    "print(x) #before the change\n",
    "car[\"year\"] = 2020\n",
    "print(x) #after the change"
   ]
  },
  {
   "cell_type": "markdown",
   "id": "06b62c56-f943-4288-9886-164fea81f0d7",
   "metadata": {},
   "source": [
    "Example 7"
   ]
  },
  {
   "cell_type": "code",
   "execution_count": 13,
   "id": "4aa0915f-6054-4dd2-9c35-9b3391d803c3",
   "metadata": {},
   "outputs": [
    {
     "name": "stdout",
     "output_type": "stream",
     "text": [
      "dict_values(['Ford', 'Mustang', 1964])\n",
      "dict_values(['Ford', 'Mustang', 1964, 'red'])\n"
     ]
    }
   ],
   "source": [
    "car = {\n",
    "\"brand\": \"Ford\",\n",
    "\"model\": \"Mustang\",\n",
    "\"year\": 1964\n",
    "}\n",
    "x = car.values()\n",
    "print(x) #before the change\n",
    "car[\"color\"] = \"red\"\n",
    "print(x) #after the change"
   ]
  },
  {
   "cell_type": "markdown",
   "id": "6b22ad98-62af-47e3-a433-5ac2a13ae02b",
   "metadata": {},
   "source": [
    "Example 8"
   ]
  },
  {
   "cell_type": "code",
   "execution_count": 15,
   "id": "80ad42ab-17fe-43ec-88b6-b58d67bf7b11",
   "metadata": {},
   "outputs": [],
   "source": [
    "x = thisdict.items() #Get a list of the key:value pairs"
   ]
  },
  {
   "cell_type": "markdown",
   "id": "8617361c-9b74-4aef-aef9-2896e609222f",
   "metadata": {},
   "source": [
    "Example 9"
   ]
  },
  {
   "cell_type": "code",
   "execution_count": 17,
   "id": "95138fbe-6d38-4200-b7a9-a83e473ed966",
   "metadata": {},
   "outputs": [
    {
     "name": "stdout",
     "output_type": "stream",
     "text": [
      "dict_items([('brand', 'Ford'), ('model', 'Mustang'), ('year', 1964)])\n",
      "dict_items([('brand', 'Ford'), ('model', 'Mustang'), ('year', 2020)])\n"
     ]
    }
   ],
   "source": [
    "car = {\n",
    "\"brand\": \"Ford\",\n",
    "\"model\": \"Mustang\",\n",
    "\"year\": 1964\n",
    "}\n",
    "x = car.items()\n",
    "print(x) #before the change\n",
    "car[\"year\"] = 2020\n",
    "print(x) #after the change"
   ]
  },
  {
   "cell_type": "markdown",
   "id": "3b59aa3d-d4e8-49ac-addc-0d970528a0cd",
   "metadata": {},
   "source": [
    "Example 10"
   ]
  },
  {
   "cell_type": "code",
   "execution_count": 19,
   "id": "3a028082-10c3-4060-8226-002c14effab1",
   "metadata": {},
   "outputs": [
    {
     "name": "stdout",
     "output_type": "stream",
     "text": [
      "dict_items([('brand', 'Ford'), ('model', 'Mustang'), ('year', 1964)])\n",
      "dict_items([('brand', 'Ford'), ('model', 'Mustang'), ('year', 1964), ('color', 'red')])\n"
     ]
    }
   ],
   "source": [
    "car = {\n",
    "\"brand\": \"Ford\",\n",
    "\"model\": \"Mustang\",\n",
    "\"year\": 1964\n",
    "}\n",
    "x = car.items()\n",
    "print(x) #before the change\n",
    "car[\"color\"] = \"red\"\n",
    "print(x) #after the change"
   ]
  },
  {
   "cell_type": "markdown",
   "id": "b5fc0e2f-67ed-4ccc-a851-791317ebfdde",
   "metadata": {},
   "source": [
    "Example 11"
   ]
  },
  {
   "cell_type": "code",
   "execution_count": 21,
   "id": "c3973e8f-60ca-438c-8534-b8744633ef10",
   "metadata": {},
   "outputs": [
    {
     "name": "stdout",
     "output_type": "stream",
     "text": [
      "Yes, 'model' is one of the keys in the thisdict dictionary\n"
     ]
    }
   ],
   "source": [
    "thisdict = {\n",
    "  \"brand\": \"Ford\",\n",
    "  \"model\": \"Mustang\",\n",
    "  \"year\": 1964\n",
    "}\n",
    "if \"model\" in thisdict:\n",
    "  print(\"Yes, 'model' is one of the keys in the thisdict dictionary\")"
   ]
  }
 ],
 "metadata": {
  "kernelspec": {
   "display_name": "Python [conda env:base] *",
   "language": "python",
   "name": "conda-base-py"
  },
  "language_info": {
   "codemirror_mode": {
    "name": "ipython",
    "version": 3
   },
   "file_extension": ".py",
   "mimetype": "text/x-python",
   "name": "python",
   "nbconvert_exporter": "python",
   "pygments_lexer": "ipython3",
   "version": "3.12.7"
  }
 },
 "nbformat": 4,
 "nbformat_minor": 5
}

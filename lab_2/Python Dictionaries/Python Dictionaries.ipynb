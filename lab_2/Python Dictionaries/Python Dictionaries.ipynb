{
 "cells": [
  {
   "cell_type": "markdown",
   "id": "49642b97-f608-4e2a-82da-f5e26034793d",
   "metadata": {},
   "source": [
    "Example 1"
   ]
  },
  {
   "cell_type": "code",
   "execution_count": 1,
   "id": "43fad608-5735-4cc2-8f55-651f8539ffef",
   "metadata": {},
   "outputs": [
    {
     "name": "stdout",
     "output_type": "stream",
     "text": [
      "{'brand': 'Ford', 'model': 'Mustang', 'year': 1964}\n"
     ]
    }
   ],
   "source": [
    "thisdict = {\n",
    "  \"brand\": \"Ford\",\n",
    "  \"model\": \"Mustang\",\n",
    "  \"year\": 1964\n",
    "}\n",
    "print(thisdict)"
   ]
  },
  {
   "cell_type": "markdown",
   "id": "3fbfee1e-a3b4-4afc-ba78-6593f9259820",
   "metadata": {},
   "source": [
    "Example 2"
   ]
  },
  {
   "cell_type": "code",
   "execution_count": 3,
   "id": "ff8dbd07-06a8-4e5e-a7e3-f0be19d62b6f",
   "metadata": {},
   "outputs": [
    {
     "name": "stdout",
     "output_type": "stream",
     "text": [
      "Ford\n"
     ]
    }
   ],
   "source": [
    "thisdict = {\n",
    "  \"brand\": \"Ford\",\n",
    "  \"model\": \"Mustang\",\n",
    "  \"year\": 1964\n",
    "}\n",
    "print(thisdict[\"brand\"])"
   ]
  },
  {
   "cell_type": "markdown",
   "id": "4d57de8c-5cff-4673-a398-fe26ff35936c",
   "metadata": {},
   "source": [
    "Example 3"
   ]
  },
  {
   "cell_type": "code",
   "execution_count": 5,
   "id": "47a6b38f-d4d4-420d-b2a5-c4a150db9585",
   "metadata": {},
   "outputs": [
    {
     "name": "stdout",
     "output_type": "stream",
     "text": [
      "{'brand': 'Ford', 'model': 'Mustang', 'year': 2020}\n"
     ]
    }
   ],
   "source": [
    "thisdict = {\n",
    "  \"brand\": \"Ford\",\n",
    "  \"model\": \"Mustang\",\n",
    "  \"year\": 1964,\n",
    "  \"year\": 2020\n",
    "}\n",
    "print(thisdict)"
   ]
  },
  {
   "cell_type": "markdown",
   "id": "e0a466aa-ab66-4b86-940c-a36fca197778",
   "metadata": {},
   "source": [
    "Example 4"
   ]
  },
  {
   "cell_type": "code",
   "execution_count": 7,
   "id": "853533d3-bf0e-4fc3-ab63-d28ac40f071c",
   "metadata": {},
   "outputs": [
    {
     "name": "stdout",
     "output_type": "stream",
     "text": [
      "3\n"
     ]
    }
   ],
   "source": [
    "print(len(thisdict)) #Print the number of items in the dictionary"
   ]
  },
  {
   "cell_type": "markdown",
   "id": "19c2d4a0-8207-48af-8567-19eac751933e",
   "metadata": {},
   "source": [
    "Example 5"
   ]
  },
  {
   "cell_type": "code",
   "execution_count": 9,
   "id": "b862f201-1f95-451a-8e95-73de052d96ea",
   "metadata": {},
   "outputs": [],
   "source": [
    "thisdict = {\n",
    "  \"brand\": \"Ford\",\n",
    "  \"electric\": False,\n",
    "  \"year\": 1964,\n",
    "  \"colors\": [\"red\", \"white\", \"blue\"]\n",
    "}\n",
    "#String, int, boolean, and list data types"
   ]
  },
  {
   "cell_type": "markdown",
   "id": "4e695fc4-d7aa-4bf0-8715-61d3994f7959",
   "metadata": {},
   "source": [
    "Example 6"
   ]
  },
  {
   "cell_type": "code",
   "execution_count": 11,
   "id": "ae6c75d1-08e9-4e71-bdd8-42d2d3b224af",
   "metadata": {},
   "outputs": [
    {
     "name": "stdout",
     "output_type": "stream",
     "text": [
      "<class 'dict'>\n"
     ]
    }
   ],
   "source": [
    "thisdict = {\n",
    "  \"brand\": \"Ford\",\n",
    "  \"model\": \"Mustang\",\n",
    "  \"year\": 1964\n",
    "}\n",
    "print(type(thisdict))"
   ]
  },
  {
   "cell_type": "markdown",
   "id": "d8c355f6-aa4a-45da-926a-f277f33d773e",
   "metadata": {},
   "source": [
    "Example 7"
   ]
  },
  {
   "cell_type": "code",
   "execution_count": 13,
   "id": "febd82e9-2c10-4fc4-a7c4-9fb96b0678bf",
   "metadata": {},
   "outputs": [
    {
     "name": "stdout",
     "output_type": "stream",
     "text": [
      "{'name': 'John', 'age': 36, 'country': 'Norway'}\n"
     ]
    }
   ],
   "source": [
    "thisdict = dict(name = \"John\", age = 36, country = \"Norway\")\n",
    "print(thisdict)"
   ]
  }
 ],
 "metadata": {
  "kernelspec": {
   "display_name": "Python [conda env:base] *",
   "language": "python",
   "name": "conda-base-py"
  },
  "language_info": {
   "codemirror_mode": {
    "name": "ipython",
    "version": 3
   },
   "file_extension": ".py",
   "mimetype": "text/x-python",
   "name": "python",
   "nbconvert_exporter": "python",
   "pygments_lexer": "ipython3",
   "version": "3.12.7"
  }
 },
 "nbformat": 4,
 "nbformat_minor": 5
}

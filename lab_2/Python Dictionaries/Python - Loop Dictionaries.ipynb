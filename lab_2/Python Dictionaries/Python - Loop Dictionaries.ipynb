{
 "cells": [
  {
   "cell_type": "markdown",
   "id": "fccd5f40-46fa-4a1e-bb94-a605c1eeb9c3",
   "metadata": {},
   "source": [
    "Example 1"
   ]
  },
  {
   "cell_type": "code",
   "execution_count": 5,
   "id": "8cfc4c0e-b139-4d02-bd69-98d8a205a32e",
   "metadata": {},
   "outputs": [
    {
     "name": "stdout",
     "output_type": "stream",
     "text": [
      "brand\n"
     ]
    }
   ],
   "source": [
    "thisdict={\n",
    "    \"brand\": \"Ford\"\n",
    "}\n",
    "for x in thisdict:\n",
    "  print(x)\n",
    "#Print all key names in the dictionary, one by one"
   ]
  },
  {
   "cell_type": "markdown",
   "id": "3dff5959-1ef6-49de-9a91-845ef8d2f9a0",
   "metadata": {},
   "source": [
    "Example 2"
   ]
  },
  {
   "cell_type": "code",
   "execution_count": 7,
   "id": "ca5ef51f-8eab-426c-9f41-d601219e2da8",
   "metadata": {},
   "outputs": [
    {
     "name": "stdout",
     "output_type": "stream",
     "text": [
      "Ford\n"
     ]
    }
   ],
   "source": [
    "thisdict={\n",
    "    \"brand\": \"Ford\"\n",
    "}\n",
    "for x in thisdict:\n",
    "  print(thisdict[x])\n",
    "#Print all values in the dictionary, one by one"
   ]
  },
  {
   "cell_type": "markdown",
   "id": "ed953762-9436-4871-92f5-22d0cff719b5",
   "metadata": {},
   "source": [
    "Example 3"
   ]
  },
  {
   "cell_type": "code",
   "execution_count": 11,
   "id": "fd0f0d72-167f-4ab3-8e76-6cf19c0d0f3c",
   "metadata": {},
   "outputs": [
    {
     "name": "stdout",
     "output_type": "stream",
     "text": [
      "Ford\n"
     ]
    }
   ],
   "source": [
    "thisdict={\n",
    "    \"brand\": \"Ford\"\n",
    "}\n",
    "for x in thisdict.values():\n",
    "  print(x)\n",
    "#use the values() method to return values of a dictionary"
   ]
  },
  {
   "cell_type": "markdown",
   "id": "4d6e1d68-fe3b-4ded-a099-4703a832c4e0",
   "metadata": {},
   "source": [
    "Example 4"
   ]
  },
  {
   "cell_type": "code",
   "execution_count": 13,
   "id": "db1c599d-3e04-4b99-8363-7ec9b1e7fb5a",
   "metadata": {},
   "outputs": [
    {
     "name": "stdout",
     "output_type": "stream",
     "text": [
      "brand\n"
     ]
    }
   ],
   "source": [
    "thisdict={\n",
    "    \"brand\": \"Ford\"\n",
    "}\n",
    "for x in thisdict.keys():\n",
    "  print(x)\n",
    "#use the keys() method to return the keys of a dictionary"
   ]
  },
  {
   "cell_type": "markdown",
   "id": "40ec261f-2c54-4df1-b79a-2281e678d97b",
   "metadata": {},
   "source": [
    "Example 5"
   ]
  },
  {
   "cell_type": "code",
   "execution_count": 15,
   "id": "f302c54e-89b3-4241-aa95-aad1ae952ab8",
   "metadata": {},
   "outputs": [
    {
     "name": "stdout",
     "output_type": "stream",
     "text": [
      "brand Ford\n"
     ]
    }
   ],
   "source": [
    "thisdict={\n",
    "    \"brand\": \"Ford\"\n",
    "}\n",
    "for x, y in thisdict.items():\n",
    "  print(x, y)"
   ]
  }
 ],
 "metadata": {
  "kernelspec": {
   "display_name": "Python [conda env:base] *",
   "language": "python",
   "name": "conda-base-py"
  },
  "language_info": {
   "codemirror_mode": {
    "name": "ipython",
    "version": 3
   },
   "file_extension": ".py",
   "mimetype": "text/x-python",
   "name": "python",
   "nbconvert_exporter": "python",
   "pygments_lexer": "ipython3",
   "version": "3.12.7"
  }
 },
 "nbformat": 4,
 "nbformat_minor": 5
}

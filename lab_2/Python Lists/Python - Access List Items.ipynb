{
 "cells": [
  {
   "cell_type": "markdown",
   "id": "968a17bb-2f5e-4584-92a9-0e1c982e5e83",
   "metadata": {},
   "source": [
    "Example 1"
   ]
  },
  {
   "cell_type": "code",
   "execution_count": 2,
   "id": "1912351d-5d9f-4965-a88d-2d3787c55b31",
   "metadata": {},
   "outputs": [
    {
     "name": "stdout",
     "output_type": "stream",
     "text": [
      "banana\n"
     ]
    }
   ],
   "source": [
    "list=[\"apple\",\"banana\",\"cherry\"]\n",
    "print(list[1])"
   ]
  },
  {
   "cell_type": "markdown",
   "id": "79ef307d-8c9a-4064-9b29-32d41ac5a9be",
   "metadata": {},
   "source": [
    "Example 2"
   ]
  },
  {
   "cell_type": "code",
   "execution_count": 4,
   "id": "835d286f-0c6b-403d-aec6-ea554b29704b",
   "metadata": {},
   "outputs": [
    {
     "name": "stdout",
     "output_type": "stream",
     "text": [
      "cherry\n"
     ]
    }
   ],
   "source": [
    "list=[\"apple\",\"banana\",\"cherry\"]\n",
    "print(list[-1])"
   ]
  },
  {
   "cell_type": "code",
   "execution_count": null,
   "id": "b1e03d73-12ee-4dd6-b55d-1ae8f66425b7",
   "metadata": {},
   "outputs": [],
   "source": [
    "Example 3"
   ]
  },
  {
   "cell_type": "code",
   "execution_count": 6,
   "id": "771e2815-d75c-4fcd-9820-db038e432aa2",
   "metadata": {},
   "outputs": [
    {
     "name": "stdout",
     "output_type": "stream",
     "text": [
      "['cherry', 'orange', 'kiwi']\n"
     ]
    }
   ],
   "source": [
    "list=[\"apple\",\"banana\", \"cherry\", \"orange\", \"kiwi\", \"malon\",\"mango\"]\n",
    "print(list[2:5])"
   ]
  },
  {
   "cell_type": "markdown",
   "id": "949ec80a-b0dc-4db2-966a-cbb269147e8c",
   "metadata": {},
   "source": [
    "Example 4"
   ]
  },
  {
   "cell_type": "code",
   "execution_count": 8,
   "id": "61c7d4d8-2ccf-42f3-99b2-53acfdf850f5",
   "metadata": {},
   "outputs": [
    {
     "name": "stdout",
     "output_type": "stream",
     "text": [
      "['apple', 'banana', 'cherry', 'orange']\n"
     ]
    }
   ],
   "source": [
    "list=[\"apple\",\"banana\",\"cherry\",\"orange\",\"kiwi\",\"melon\",\"mango\"]\n",
    "print(list[:4])"
   ]
  },
  {
   "cell_type": "markdown",
   "id": "d37c9d99-0e3f-4d82-b441-83f786ac0993",
   "metadata": {},
   "source": [
    "Example 5"
   ]
  },
  {
   "cell_type": "code",
   "execution_count": 10,
   "id": "ca98c351-76e9-4b87-86cc-79418f402a4e",
   "metadata": {},
   "outputs": [
    {
     "name": "stdout",
     "output_type": "stream",
     "text": [
      "['cherry', 'orange', 'kiwi', 'melon', 'mango']\n"
     ]
    }
   ],
   "source": [
    "list=[\"apple\",\"banana\",\"cherry\",\"orange\",\"kiwi\",\"melon\",\"mango\"]\n",
    "print(list[2:])"
   ]
  },
  {
   "cell_type": "markdown",
   "id": "fe1b841d-6f27-4189-9db3-41fd5f7fea53",
   "metadata": {},
   "source": [
    "Example 6"
   ]
  },
  {
   "cell_type": "code",
   "execution_count": 12,
   "id": "e3e46c89-3ccd-436c-b49c-1324dbb9fef3",
   "metadata": {},
   "outputs": [
    {
     "name": "stdout",
     "output_type": "stream",
     "text": [
      "['orange', 'kiwi', 'melon']\n"
     ]
    }
   ],
   "source": [
    "list=[\"apple\",\"banana\",\"cherry\",\"orange\",\"kiwi\",\"melon\",\"mango\"]\n",
    "print(list[-4:-1])"
   ]
  },
  {
   "cell_type": "markdown",
   "id": "72f60af3-b28d-47e1-99c0-4d3c92da4b55",
   "metadata": {},
   "source": [
    "Example 7"
   ]
  },
  {
   "cell_type": "code",
   "execution_count": 14,
   "id": "3ef238ca-c277-46d1-91b2-a78c22879b20",
   "metadata": {},
   "outputs": [
    {
     "name": "stdout",
     "output_type": "stream",
     "text": [
      "Yes, 'apple' is in the fruits list\n"
     ]
    }
   ],
   "source": [
    "list=[\"apple\",\"banana\",\"cherry\"]\n",
    "if \"apple\" in list:\n",
    "    print(\"Yes, 'apple' is in the fruits list\")"
   ]
  }
 ],
 "metadata": {
  "kernelspec": {
   "display_name": "Python [conda env:base] *",
   "language": "python",
   "name": "conda-base-py"
  },
  "language_info": {
   "codemirror_mode": {
    "name": "ipython",
    "version": 3
   },
   "file_extension": ".py",
   "mimetype": "text/x-python",
   "name": "python",
   "nbconvert_exporter": "python",
   "pygments_lexer": "ipython3",
   "version": "3.12.7"
  }
 },
 "nbformat": 4,
 "nbformat_minor": 5
}

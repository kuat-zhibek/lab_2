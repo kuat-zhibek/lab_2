{
 "cells": [
  {
   "cell_type": "markdown",
   "id": "d305afce-eb31-446c-8c8d-d8f45a4ad320",
   "metadata": {},
   "source": [
    "Example 1"
   ]
  },
  {
   "cell_type": "code",
   "execution_count": 1,
   "id": "be3e4159-7402-43e2-9baf-9cc5b4ceeb4a",
   "metadata": {},
   "outputs": [
    {
     "name": "stdout",
     "output_type": "stream",
     "text": [
      "apple\n",
      "banana\n",
      "orange\n"
     ]
    }
   ],
   "source": [
    "list=[\"apple\", \"banana\", \"orange\"]\n",
    "for x in list:\n",
    "    print(x)"
   ]
  },
  {
   "cell_type": "markdown",
   "id": "72d390f1-2183-49da-b1df-0fd0672a8a64",
   "metadata": {},
   "source": [
    "Example 2"
   ]
  },
  {
   "cell_type": "code",
   "execution_count": 3,
   "id": "9dde29ea-7d63-4f9d-9189-36ac845d1e56",
   "metadata": {},
   "outputs": [
    {
     "name": "stdout",
     "output_type": "stream",
     "text": [
      "apple\n",
      "banana\n",
      "cherry\n"
     ]
    }
   ],
   "source": [
    "list=[\"apple\", \"banana\", \"cherry\"]\n",
    "for i in range(len(list)):\n",
    "    print(list[i])"
   ]
  },
  {
   "cell_type": "markdown",
   "id": "93e21c99-6fec-4a60-b1d9-dd189ef0b883",
   "metadata": {},
   "source": [
    "Example 3"
   ]
  },
  {
   "cell_type": "code",
   "execution_count": 5,
   "id": "789098c3-23f9-4f3f-ab46-a3943d979028",
   "metadata": {},
   "outputs": [
    {
     "name": "stdout",
     "output_type": "stream",
     "text": [
      "apple\n",
      "banana\n",
      "cherry\n"
     ]
    }
   ],
   "source": [
    "list=[\"apple\", \"banana\", \"cherry\"]\n",
    "i=0\n",
    "while i<len(list):\n",
    "    print(list[i])\n",
    "    i=i+1"
   ]
  },
  {
   "cell_type": "markdown",
   "id": "781b3a02-cb95-42a1-8968-6417e41c2f0c",
   "metadata": {},
   "source": [
    "Example 4"
   ]
  },
  {
   "cell_type": "code",
   "execution_count": 7,
   "id": "19bd7bc8-fe7c-4991-8750-b03f88647366",
   "metadata": {},
   "outputs": [
    {
     "name": "stdout",
     "output_type": "stream",
     "text": [
      "apple\n",
      "banana\n",
      "cherry\n"
     ]
    },
    {
     "data": {
      "text/plain": [
       "[None, None, None]"
      ]
     },
     "execution_count": 7,
     "metadata": {},
     "output_type": "execute_result"
    }
   ],
   "source": [
    "list=[\"apple\", \"banana\", \"cherry\"]\n",
    "[print(x) for x in list]"
   ]
  }
 ],
 "metadata": {
  "kernelspec": {
   "display_name": "Python [conda env:base] *",
   "language": "python",
   "name": "conda-base-py"
  },
  "language_info": {
   "codemirror_mode": {
    "name": "ipython",
    "version": 3
   },
   "file_extension": ".py",
   "mimetype": "text/x-python",
   "name": "python",
   "nbconvert_exporter": "python",
   "pygments_lexer": "ipython3",
   "version": "3.12.7"
  }
 },
 "nbformat": 4,
 "nbformat_minor": 5
}

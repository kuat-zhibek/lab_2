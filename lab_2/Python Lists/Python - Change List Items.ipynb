{
 "cells": [
  {
   "cell_type": "markdown",
   "id": "149b45b0-df66-49f0-9fc0-64e522b55b4e",
   "metadata": {},
   "source": [
    "Example 1"
   ]
  },
  {
   "cell_type": "code",
   "execution_count": 1,
   "id": "98b3062b-28c3-43c7-bfa9-5be87d32b0d8",
   "metadata": {},
   "outputs": [
    {
     "name": "stdout",
     "output_type": "stream",
     "text": [
      "['apple', 'blackcurrant', 'cherry']\n"
     ]
    }
   ],
   "source": [
    "list=[\"apple\", \"banana\", \"cherry\"]\n",
    "list[1]=\"blackcurrant\"\n",
    "print(list)"
   ]
  },
  {
   "cell_type": "markdown",
   "id": "d103a1ff-c0df-450a-a84e-94ba03ae5f58",
   "metadata": {},
   "source": [
    "Example 2"
   ]
  },
  {
   "cell_type": "code",
   "execution_count": 3,
   "id": "eb75e269-7c3b-4ee3-ae38-524ae92e4aa4",
   "metadata": {},
   "outputs": [
    {
     "name": "stdout",
     "output_type": "stream",
     "text": [
      "['apple', 'blackcurrant', 'watermelon', 'orange', 'kiwi', 'mango']\n"
     ]
    }
   ],
   "source": [
    "list=['apple', \"banana\", \"cherry\", \"orange\", \"kiwi\", \"mango\"]\n",
    "list[1:3]=[\"blackcurrant\", \"watermelon\"]\n",
    "print(list)"
   ]
  },
  {
   "cell_type": "markdown",
   "id": "b6d887e1-609d-4d69-95af-763763868890",
   "metadata": {},
   "source": [
    "Example 3"
   ]
  },
  {
   "cell_type": "code",
   "execution_count": 5,
   "id": "c89bb30d-9467-4e40-857e-84e2a07a0af7",
   "metadata": {},
   "outputs": [
    {
     "name": "stdout",
     "output_type": "stream",
     "text": [
      "['apple', 'blackcurrant', 'watermelon', 'cherry']\n"
     ]
    }
   ],
   "source": [
    "list=[\"apple\", \"banana\", \"cherry\"]\n",
    "list[1:2]=[\"blackcurrant\", \"watermelon\"]\n",
    "print(list)"
   ]
  },
  {
   "cell_type": "markdown",
   "id": "00baf806-f36c-4667-b67d-540414116030",
   "metadata": {},
   "source": [
    "Example 4"
   ]
  },
  {
   "cell_type": "code",
   "execution_count": 7,
   "id": "060c74e0-8856-4b73-9b01-a23a2f4116a9",
   "metadata": {},
   "outputs": [
    {
     "name": "stdout",
     "output_type": "stream",
     "text": [
      "['apple', 'watermelon']\n"
     ]
    }
   ],
   "source": [
    "list=[\"apple\", \"banana\", \"cherry\"]\n",
    "list[1:3]=[\"watermelon\"]\n",
    "print(list)"
   ]
  },
  {
   "cell_type": "markdown",
   "id": "aa25bf24-22f2-41a4-bbae-6a9fd09eb896",
   "metadata": {},
   "source": [
    "Example 5"
   ]
  },
  {
   "cell_type": "code",
   "execution_count": 9,
   "id": "a67f397b-59f0-441e-94b0-2215ae2ad8b2",
   "metadata": {},
   "outputs": [
    {
     "name": "stdout",
     "output_type": "stream",
     "text": [
      "['apple', 'banana', 'watermelon', 'cherry']\n"
     ]
    }
   ],
   "source": [
    "list=[\"apple\", \"banana\", \"cherry\"]\n",
    "list.insert(2, \"watermelon\")\n",
    "print(list)"
   ]
  }
 ],
 "metadata": {
  "kernelspec": {
   "display_name": "Python [conda env:base] *",
   "language": "python",
   "name": "conda-base-py"
  },
  "language_info": {
   "codemirror_mode": {
    "name": "ipython",
    "version": 3
   },
   "file_extension": ".py",
   "mimetype": "text/x-python",
   "name": "python",
   "nbconvert_exporter": "python",
   "pygments_lexer": "ipython3",
   "version": "3.12.7"
  }
 },
 "nbformat": 4,
 "nbformat_minor": 5
}

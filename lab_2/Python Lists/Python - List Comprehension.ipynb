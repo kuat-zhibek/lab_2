{
 "cells": [
  {
   "cell_type": "markdown",
   "id": "112a4e36-1c73-4f0f-87df-0ce3ecbc41a6",
   "metadata": {},
   "source": [
    "Example 1"
   ]
  },
  {
   "cell_type": "code",
   "execution_count": 1,
   "id": "d7cba594-3405-41cb-b6f4-6abab387e26c",
   "metadata": {},
   "outputs": [
    {
     "name": "stdout",
     "output_type": "stream",
     "text": [
      "['apple', 'banana', 'mango']\n"
     ]
    }
   ],
   "source": [
    "fruits = [\"apple\", \"banana\", \"cherry\", \"kiwi\", \"mango\"]\n",
    "newlist = []\n",
    "for x in fruits:\n",
    "  if \"a\" in x:\n",
    "    newlist.append(x)\n",
    "print(newlist)"
   ]
  },
  {
   "cell_type": "markdown",
   "id": "ff318886-622e-4bf6-89dc-2b4dacfbeec4",
   "metadata": {},
   "source": [
    "Example 2"
   ]
  },
  {
   "cell_type": "code",
   "execution_count": 3,
   "id": "435403f2-2815-4285-b3b8-e6a4a5e2b625",
   "metadata": {},
   "outputs": [
    {
     "name": "stdout",
     "output_type": "stream",
     "text": [
      "['apple', 'banana', 'mango']\n"
     ]
    }
   ],
   "source": [
    "fruits = [\"apple\", \"banana\", \"cherry\", \"kiwi\", \"mango\"]\n",
    "newlist = [x for x in fruits if \"a\" in x]\n",
    "print(newlist)"
   ]
  },
  {
   "cell_type": "markdown",
   "id": "b7341847-edbd-49a7-9658-c849491d4046",
   "metadata": {},
   "source": [
    "Example 3"
   ]
  },
  {
   "cell_type": "code",
   "execution_count": 5,
   "id": "dc7c15a9-6cf3-4a8d-9075-1cf98683a0fb",
   "metadata": {},
   "outputs": [],
   "source": [
    "newlist = [x for x in fruits if x != \"apple\"]\n",
    "#Only accept items that are not \"apple\":"
   ]
  },
  {
   "cell_type": "markdown",
   "id": "0e09262e-3a45-4d64-9a3c-b2ae1484801e",
   "metadata": {},
   "source": [
    "Example 4"
   ]
  },
  {
   "cell_type": "code",
   "execution_count": 7,
   "id": "aa6630bf-a716-40cd-8e70-5e4f4cf1df72",
   "metadata": {},
   "outputs": [],
   "source": [
    "newlist = [x for x in fruits] #With no if statement"
   ]
  },
  {
   "cell_type": "markdown",
   "id": "fdfd7ebe-9032-4fe9-8c3d-bab194671e52",
   "metadata": {},
   "source": [
    "Example 5"
   ]
  },
  {
   "cell_type": "code",
   "execution_count": 9,
   "id": "93d7e278-2cc7-442c-a1db-fbccd545e804",
   "metadata": {},
   "outputs": [],
   "source": [
    "newlist = [x for x in range(10)] #use the range() function to create an iterable"
   ]
  },
  {
   "cell_type": "markdown",
   "id": "13e517dd-24c0-4fc6-b8ee-20c8a40df7f8",
   "metadata": {},
   "source": [
    "Example 6"
   ]
  },
  {
   "cell_type": "code",
   "execution_count": 11,
   "id": "69be3992-fff0-4857-93b9-a925eb4e00ee",
   "metadata": {},
   "outputs": [],
   "source": [
    "newlist = [x for x in range(10) if x < 5] #Accept only numbers lower than 5"
   ]
  },
  {
   "cell_type": "markdown",
   "id": "3791e980-116e-46e5-8a4c-887a33385c51",
   "metadata": {},
   "source": [
    "Example 7"
   ]
  },
  {
   "cell_type": "code",
   "execution_count": 13,
   "id": "5e83cb7c-7142-455d-be1f-5f9b09e64087",
   "metadata": {},
   "outputs": [],
   "source": [
    "newlist = [x.upper() for x in fruits] #Set the values in the new list to upper case"
   ]
  },
  {
   "cell_type": "markdown",
   "id": "c079a155-6a89-49cd-a1b0-f5f4bebc96db",
   "metadata": {},
   "source": [
    "Example 8"
   ]
  },
  {
   "cell_type": "code",
   "execution_count": 15,
   "id": "2a7f8f17-d15b-4b4d-8581-7736d2554eca",
   "metadata": {},
   "outputs": [],
   "source": [
    "newlist = ['hello' for x in fruits] #Set all values in the new list to 'hello'"
   ]
  },
  {
   "cell_type": "markdown",
   "id": "48949491-4ee1-4b04-aa77-8127681ccd85",
   "metadata": {},
   "source": [
    "Example 9"
   ]
  },
  {
   "cell_type": "code",
   "execution_count": null,
   "id": "b0cb32a4-2314-4ae4-9deb-f227dea28c82",
   "metadata": {},
   "outputs": [],
   "source": [
    "newlist = [x if x != \"banana\" else \"orange\" for x in fruits] #Return \"orange\" instead of \"banana\""
   ]
  }
 ],
 "metadata": {
  "kernelspec": {
   "display_name": "Python [conda env:base] *",
   "language": "python",
   "name": "conda-base-py"
  },
  "language_info": {
   "codemirror_mode": {
    "name": "ipython",
    "version": 3
   },
   "file_extension": ".py",
   "mimetype": "text/x-python",
   "name": "python",
   "nbconvert_exporter": "python",
   "pygments_lexer": "ipython3",
   "version": "3.12.7"
  }
 },
 "nbformat": 4,
 "nbformat_minor": 5
}

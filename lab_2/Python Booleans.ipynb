{
 "cells": [
  {
   "cell_type": "markdown",
   "id": "72598c93-1024-4525-b68f-0d1b5f2efa28",
   "metadata": {},
   "source": [
    "Example 1"
   ]
  },
  {
   "cell_type": "code",
   "execution_count": 1,
   "id": "70fda73e-e57a-4815-82e1-9b969a3c9e02",
   "metadata": {},
   "outputs": [
    {
     "name": "stdout",
     "output_type": "stream",
     "text": [
      "True\n",
      "False\n",
      "False\n"
     ]
    }
   ],
   "source": [
    "print(10>9)\n",
    "print(10==9)\n",
    "print(10<9)"
   ]
  },
  {
   "cell_type": "markdown",
   "id": "b6899ab8-5f01-4eca-9da8-a34b361d0a31",
   "metadata": {},
   "source": [
    "Example 2"
   ]
  },
  {
   "cell_type": "code",
   "execution_count": 3,
   "id": "5d0538c9-e70f-481e-8af2-8713b1adabb4",
   "metadata": {},
   "outputs": [
    {
     "name": "stdout",
     "output_type": "stream",
     "text": [
      "b is not greater than a\n"
     ]
    }
   ],
   "source": [
    "a=200\n",
    "b=33\n",
    "if b>a:\n",
    "    print(\"b is greater than a\")\n",
    "else:\n",
    "    print(\"b is not greater than a\")"
   ]
  },
  {
   "cell_type": "markdown",
   "id": "35f4fc13-5ac2-4d7e-98c0-921f218dd7a7",
   "metadata": {},
   "source": [
    "Example 3"
   ]
  },
  {
   "cell_type": "code",
   "execution_count": 7,
   "id": "8ccc56b8-682a-4163-877e-28a40166534c",
   "metadata": {},
   "outputs": [
    {
     "name": "stdout",
     "output_type": "stream",
     "text": [
      "True\n",
      "True\n"
     ]
    }
   ],
   "source": [
    "print(bool(\"Hello\"))\n",
    "print(bool(5))"
   ]
  },
  {
   "cell_type": "markdown",
   "id": "544e1aed-3aab-4c94-98bb-5881f789a9a2",
   "metadata": {},
   "source": [
    "Example 4"
   ]
  },
  {
   "cell_type": "code",
   "execution_count": 9,
   "id": "c1a02122-32dc-456d-a808-24e4cc810405",
   "metadata": {},
   "outputs": [
    {
     "name": "stdout",
     "output_type": "stream",
     "text": [
      "True\n",
      "True\n"
     ]
    }
   ],
   "source": [
    "x=\"Hello\"\n",
    "y=15\n",
    "print(bool(x))\n",
    "print(bool(y))"
   ]
  },
  {
   "cell_type": "markdown",
   "id": "b02da065-d539-45ca-8f73-ff9b2c836a3d",
   "metadata": {},
   "source": [
    "Example 5"
   ]
  },
  {
   "cell_type": "code",
   "execution_count": 11,
   "id": "a81abe1b-3c89-473d-a353-c10e933d964d",
   "metadata": {},
   "outputs": [
    {
     "data": {
      "text/plain": [
       "True"
      ]
     },
     "execution_count": 11,
     "metadata": {},
     "output_type": "execute_result"
    }
   ],
   "source": [
    "bool(\"abc\")\n",
    "bool(123)\n",
    "bool([\"apple\",\"cherry\",\"banana\"])"
   ]
  },
  {
   "cell_type": "markdown",
   "id": "511fd7cd-2ccb-4a81-9759-d2aaa80e9a30",
   "metadata": {},
   "source": [
    "Example 6"
   ]
  },
  {
   "cell_type": "code",
   "execution_count": 13,
   "id": "3d6bcc00-b39a-4451-8750-d2a9b8f4bf73",
   "metadata": {},
   "outputs": [
    {
     "data": {
      "text/plain": [
       "False"
      ]
     },
     "execution_count": 13,
     "metadata": {},
     "output_type": "execute_result"
    }
   ],
   "source": [
    "bool(False)\n",
    "bool(None)\n",
    "bool(0)\n",
    "bool(\"\")\n",
    "bool(())\n",
    "bool([])\n",
    "bool({})"
   ]
  },
  {
   "cell_type": "markdown",
   "id": "0b290b83-4b11-46f9-ad38-297b30779ba2",
   "metadata": {},
   "source": [
    "Example 7"
   ]
  },
  {
   "cell_type": "code",
   "execution_count": 17,
   "id": "7dce7403-98d1-424f-b8b6-eced6790ad59",
   "metadata": {},
   "outputs": [
    {
     "name": "stdout",
     "output_type": "stream",
     "text": [
      "False\n"
     ]
    }
   ],
   "source": [
    "class myclass():\n",
    "  def __len__(self):\n",
    "    return 0\n",
    "\n",
    "myobj = myclass()\n",
    "print(bool(myobj))"
   ]
  },
  {
   "cell_type": "markdown",
   "id": "f2ff9c50-523e-4082-bdf0-6981350f51f2",
   "metadata": {},
   "source": [
    "Example 8"
   ]
  },
  {
   "cell_type": "code",
   "execution_count": 19,
   "id": "fc1db1ca-41fa-44ca-aaa6-d8eba65d071b",
   "metadata": {},
   "outputs": [
    {
     "name": "stdout",
     "output_type": "stream",
     "text": [
      "True\n"
     ]
    }
   ],
   "source": [
    "def function():\n",
    "    return True\n",
    "print(function())"
   ]
  },
  {
   "cell_type": "markdown",
   "id": "8cf91fbd-5be6-45b6-997a-0874d7211a56",
   "metadata": {},
   "source": [
    "Example 9"
   ]
  },
  {
   "cell_type": "code",
   "execution_count": 23,
   "id": "b1bfce4f-3c7a-4029-8d95-2045dcacaf56",
   "metadata": {},
   "outputs": [
    {
     "name": "stdout",
     "output_type": "stream",
     "text": [
      "YES!\n"
     ]
    }
   ],
   "source": [
    "def func():\n",
    "    return True\n",
    "if func():\n",
    "    print(\"YES!\")\n",
    "else:\n",
    "    print(\"NO!\")"
   ]
  },
  {
   "cell_type": "markdown",
   "id": "f2d0eb1c-0c55-444a-acb8-4350bb8f9dba",
   "metadata": {},
   "source": [
    "Example 10"
   ]
  },
  {
   "cell_type": "code",
   "execution_count": 25,
   "id": "d668649f-e745-41d6-8b54-36d05ef53645",
   "metadata": {},
   "outputs": [
    {
     "name": "stdout",
     "output_type": "stream",
     "text": [
      "True\n"
     ]
    }
   ],
   "source": [
    "x=200\n",
    "print(isinstance(x, int))"
   ]
  }
 ],
 "metadata": {
  "kernelspec": {
   "display_name": "Python [conda env:base] *",
   "language": "python",
   "name": "conda-base-py"
  },
  "language_info": {
   "codemirror_mode": {
    "name": "ipython",
    "version": 3
   },
   "file_extension": ".py",
   "mimetype": "text/x-python",
   "name": "python",
   "nbconvert_exporter": "python",
   "pygments_lexer": "ipython3",
   "version": "3.12.7"
  }
 },
 "nbformat": 4,
 "nbformat_minor": 5
}
